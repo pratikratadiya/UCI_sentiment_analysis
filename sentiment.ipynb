{
 "cells": [
  {
   "cell_type": "code",
   "execution_count": 2,
   "metadata": {},
   "outputs": [
    {
     "name": "stdout",
     "output_type": "stream",
     "text": [
      "sentence    Wow... Loved this place.\n",
      "label                              1\n",
      "source                          yelp\n",
      "Name: 0, dtype: object\n"
     ]
    }
   ],
   "source": [
    "import pandas as pd\n",
    "\n",
    "filepath_dict = {'yelp':   'sentences/yelp_labelled.txt',\n",
    "                 'amazon': 'sentences/amazon_cells_labelled.txt',\n",
    "                 'imdb':   'sentences/imdb_labelled.txt'}\n",
    "\n",
    "df_list = []\n",
    "for source, filepath in filepath_dict.items():\n",
    "    df = pd.read_csv(filepath, names=['sentence', 'label'], sep='\\t')\n",
    "    df['source'] = source  # Add another column filled with the source name\n",
    "    df_list.append(df)\n",
    "\n",
    "df = pd.concat(df_list)\n",
    "print(df.iloc[0])"
   ]
  },
  {
   "cell_type": "code",
   "execution_count": 90,
   "metadata": {
    "collapsed": true
   },
   "outputs": [],
   "source": [
    "df_yelp = df[df['source'] == 'yelp']\n",
    "\n",
    "sentences = df_yelp['sentence'].values\n",
    "y = df_yelp['label'].values"
   ]
  },
  {
   "cell_type": "code",
   "execution_count": 99,
   "metadata": {},
   "outputs": [],
   "source": [
    "from nltk.corpus import stopwords\n",
    "est = stopwords.words('english')\n",
    "sentences_mod = []\n",
    "nlist = ['no', 'nor', 'not', 'don', \"don't\", 'ain', 'aren', \"aren't\", 'couldn', \"couldn't\", 'didn', \"didn't\", 'doesn', \"doesn't\", 'hadn', \"hadn't\", 'hasn', \"hasn't\", 'haven', \"haven't\", 'isn', \"isn't\", 'ma', 'mightn', \"mightn't\", 'mustn', \"mustn't\", 'needn', \"needn't\", 'shan', \"shan't\", 'shouldn', \"shouldn't\", 'wasn', \"wasn't\", 'weren', \"weren't\", \"won't\", 'wouldn', \"wouldn't\"]\n",
    "for sent in sentences:\n",
    "    sent = [word for word in sent.split(' ') if ((word in nlist) or (not word in est))]\n",
    "    sentences_mod.append(' '.join(sent))"
   ]
  },
  {
   "cell_type": "code",
   "execution_count": 100,
   "metadata": {},
   "outputs": [
    {
     "name": "stdout",
     "output_type": "stream",
     "text": [
      "Crust is not good.\n",
      "Crust not good.\n"
     ]
    }
   ],
   "source": [
    "print(sentences[1])\n",
    "print(sentences_mod[1])"
   ]
  },
  {
   "cell_type": "code",
   "execution_count": 101,
   "metadata": {},
   "outputs": [],
   "source": [
    "from keras.preprocessing.text import Tokenizer\n",
    "\n",
    "tokenizer = Tokenizer(num_words=5000)\n",
    "tokenizer.fit_on_texts(sentences_mod)"
   ]
  },
  {
   "cell_type": "code",
   "execution_count": 102,
   "metadata": {},
   "outputs": [
    {
     "name": "stdout",
     "output_type": "stream",
     "text": [
      "1000\n"
     ]
    }
   ],
   "source": [
    "#print(tokenizer.word_counts)\n",
    "print(tokenizer.document_count)\n",
    "#print(tokenizer.word_index) #dictionary like {'the':1,'and':2,'i':3}\n",
    "#print(tokenizer.word_docs)"
   ]
  },
  {
   "cell_type": "code",
   "execution_count": 103,
   "metadata": {
    "collapsed": true
   },
   "outputs": [],
   "source": [
    "encoded_doc = tokenizer.texts_to_sequences(sentences_mod) "
   ]
  },
  {
   "cell_type": "code",
   "execution_count": 104,
   "metadata": {},
   "outputs": [
    {
     "name": "stdout",
     "output_type": "stream",
     "text": [
      "Crust not good.\n",
      "[543, 4, 6]\n"
     ]
    }
   ],
   "source": [
    "print(sentences_mod[1])\n",
    "print(encoded_doc[1])"
   ]
  },
  {
   "cell_type": "code",
   "execution_count": 106,
   "metadata": {},
   "outputs": [
    {
     "name": "stdout",
     "output_type": "stream",
     "text": [
      "20\n"
     ]
    }
   ],
   "source": [
    "wleng = -2\n",
    "for sent in sentences_mod:\n",
    "    if(len(sent.split(' '))>wleng):\n",
    "        wleng = len(sent.split(' '))\n",
    "print(wleng)"
   ]
  },
  {
   "cell_type": "code",
   "execution_count": 107,
   "metadata": {
    "collapsed": true
   },
   "outputs": [],
   "source": [
    "vocab_size = len(tokenizer.word_index) + 1 "
   ]
  },
  {
   "cell_type": "code",
   "execution_count": 108,
   "metadata": {
    "collapsed": true
   },
   "outputs": [],
   "source": [
    "from keras.preprocessing.sequence import pad_sequences\n",
    "maxlen = 30\n",
    "encoded_doc = pad_sequences(encoded_doc, maxlen=maxlen)"
   ]
  },
  {
   "cell_type": "code",
   "execution_count": 109,
   "metadata": {},
   "outputs": [
    {
     "name": "stdout",
     "output_type": "stream",
     "text": [
      "[  0   0   0   0   0   0   0   0   0   0   0   0   0   0   0   0   0   0\n",
      "   0   0   0   0   0   0   0  33   6 149 109 241]\n"
     ]
    }
   ],
   "source": [
    "print(encoded_doc[345,:])\n",
    "#print(y)"
   ]
  },
  {
   "cell_type": "code",
   "execution_count": 110,
   "metadata": {
    "collapsed": true
   },
   "outputs": [],
   "source": [
    "from sklearn.model_selection import train_test_split\n",
    "\n",
    "X_train, X_test, y_train, y_test = train_test_split(encoded_doc, y, test_size=0.25, random_state=1000)"
   ]
  },
  {
   "cell_type": "code",
   "execution_count": 41,
   "metadata": {},
   "outputs": [
    {
     "name": "stdout",
     "output_type": "stream",
     "text": [
      "['The', 'jury', 'further', 'said', 'in', 'term-end', 'presentments', 'that', 'the', 'City', 'Executive', 'Committee', ',', 'which', 'had', 'over-all', 'charge', 'of', 'the', 'election', ',', '``', 'deserves', 'the', 'praise', 'and', 'thanks', 'of', 'the', 'City', 'of', 'Atlanta', \"''\", 'for', 'the', 'manner', 'in', 'which', 'the', 'election', 'was', 'conducted', '.']\n"
     ]
    }
   ],
   "source": [
    "#lets create word embeddings\n",
    "from nltk.corpus import brown\n",
    "from gensim.models import Word2Vec\n",
    "import multiprocessing\n",
    "st = brown.sents() # Going through the data of brown corpus and seeing a sample sentence\n",
    "print(st[1])\n",
    "w2v = Word2Vec(st,size=300,window=5,min_count=5,negative=15,iter=10,workers=multiprocessing.cpu_count())\n",
    "word_vectors = w2v.wv\n",
    "\n"
   ]
  },
  {
   "cell_type": "code",
   "execution_count": 42,
   "metadata": {},
   "outputs": [
    {
     "name": "stdout",
     "output_type": "stream",
     "text": [
      "Most similar words are:\n",
      "  [('bad', 0.7930951118469238), ('nice', 0.7271484136581421), ('real', 0.7238540053367615)]\n"
     ]
    }
   ],
   "source": [
    "result = word_vectors.similar_by_word(\"good\")\n",
    "print(\"Most similar words are:\\n \",result[:3])"
   ]
  },
  {
   "cell_type": "code",
   "execution_count": 43,
   "metadata": {
    "collapsed": true
   },
   "outputs": [],
   "source": [
    "import numpy as np\n",
    "\n",
    "def create_embedding_matrix(wordvectors, word_index, embedding_dim):\n",
    "    vocab_size = len(word_index) + 1  # Adding again 1 because of reserved 0 index\n",
    "    embedding_matrix = np.zeros((vocab_size, embedding_dim))\n",
    "    count=0\n",
    "    \n",
    "    for word in wordvectors.vocab:\n",
    "        if word in word_index:\n",
    "            idx = word_index[word]\n",
    "            count+=1\n",
    "            embedding_matrix[idx] = np.array(wordvectors[word], dtype=np.float32)[:embedding_dim]\n",
    "    return embedding_matrix,count"
   ]
  },
  {
   "cell_type": "code",
   "execution_count": 111,
   "metadata": {
    "collapsed": true
   },
   "outputs": [],
   "source": [
    "embedding_dim = 300\n",
    "c=0\n",
    "embedding_matrix, c = create_embedding_matrix(word_vectors,tokenizer.word_index,embedding_dim)"
   ]
  },
  {
   "cell_type": "code",
   "execution_count": 112,
   "metadata": {},
   "outputs": [
    {
     "data": {
      "text/plain": [
       "(2038, 300)"
      ]
     },
     "execution_count": 112,
     "metadata": {},
     "output_type": "execute_result"
    }
   ],
   "source": [
    "embedding_matrix.shape"
   ]
  },
  {
   "cell_type": "code",
   "execution_count": 113,
   "metadata": {},
   "outputs": [
    {
     "data": {
      "text/plain": [
       "1420"
      ]
     },
     "execution_count": 113,
     "metadata": {},
     "output_type": "execute_result"
    }
   ],
   "source": [
    "len(tokenizer.word_index)\n",
    "c"
   ]
  },
  {
   "cell_type": "code",
   "execution_count": 114,
   "metadata": {},
   "outputs": [
    {
     "data": {
      "text/plain": [
       "0.6967615309126595"
      ]
     },
     "execution_count": 114,
     "metadata": {},
     "output_type": "execute_result"
    }
   ],
   "source": [
    "nonzero_elements = np.count_nonzero(np.count_nonzero(embedding_matrix, axis=1))\n",
    "nonzero_elements / vocab_size"
   ]
  },
  {
   "cell_type": "code",
   "execution_count": null,
   "metadata": {
    "collapsed": true
   },
   "outputs": [],
   "source": []
  },
  {
   "cell_type": "code",
   "execution_count": 120,
   "metadata": {},
   "outputs": [
    {
     "name": "stdout",
     "output_type": "stream",
     "text": [
      "_________________________________________________________________\n",
      "Layer (type)                 Output Shape              Param #   \n",
      "=================================================================\n",
      "embedding_20 (Embedding)     (None, 30, 300)           611400    \n",
      "_________________________________________________________________\n",
      "bidirectional_10 (Bidirectio (None, 50)                140400    \n",
      "_________________________________________________________________\n",
      "dropout_33 (Dropout)         (None, 50)                0         \n",
      "_________________________________________________________________\n",
      "dense_33 (Dense)             (None, 10)                510       \n",
      "_________________________________________________________________\n",
      "dropout_34 (Dropout)         (None, 10)                0         \n",
      "_________________________________________________________________\n",
      "dense_34 (Dense)             (None, 1)                 11        \n",
      "=================================================================\n",
      "Total params: 752,321\n",
      "Trainable params: 752,321\n",
      "Non-trainable params: 0\n",
      "_________________________________________________________________\n"
     ]
    }
   ],
   "source": [
    "from keras.models import Sequential\n",
    "from keras.layers import Dense, LSTM, Flatten, Dropout, Bidirectional\n",
    "from keras.layers.embeddings import Embedding\n",
    "from keras.preprocessing import sequence\n",
    "from keras.models import save_model\n",
    "\n",
    "model = Sequential()\n",
    "model.add(Embedding(vocab_size, embedding_dim, \n",
    "                           weights=[embedding_matrix], \n",
    "                           input_length=maxlen, \n",
    "                           trainable=True))\n",
    "#model.add(Flatten())\n",
    "model.add(Bidirectional(LSTM(50),merge_mode='mul'))\n",
    "model.add(Dropout(0.2))\n",
    "model.add(Dense(10,activation='relu'))\n",
    "model.add(Dropout(0.2))\n",
    "model.add(Dense(1, activation='sigmoid'))\n",
    "model.compile(optimizer='adam',\n",
    "              loss='binary_crossentropy',\n",
    "              metrics=['accuracy'])\n",
    "model.summary()"
   ]
  },
  {
   "cell_type": "code",
   "execution_count": 121,
   "metadata": {},
   "outputs": [
    {
     "name": "stdout",
     "output_type": "stream",
     "text": [
      "Train on 750 samples, validate on 250 samples\n",
      "Epoch 1/10\n",
      "750/750 [==============================] - 23s 31ms/step - loss: 0.6488 - acc: 0.6133 - val_loss: 0.6393 - val_acc: 0.6360\n",
      "Epoch 2/10\n",
      "750/750 [==============================] - 8s 11ms/step - loss: 0.5199 - acc: 0.7560 - val_loss: 0.5607 - val_acc: 0.7000\n",
      "Epoch 3/10\n",
      "750/750 [==============================] - 8s 11ms/step - loss: 0.3213 - acc: 0.8720 - val_loss: 0.5052 - val_acc: 0.7800\n",
      "Epoch 4/10\n",
      "750/750 [==============================] - 9s 11ms/step - loss: 0.1726 - acc: 0.9507 - val_loss: 0.6801 - val_acc: 0.7400\n",
      "Epoch 5/10\n",
      "750/750 [==============================] - 9s 11ms/step - loss: 0.1072 - acc: 0.9747 - val_loss: 0.6923 - val_acc: 0.7800\n",
      "Epoch 6/10\n",
      "750/750 [==============================] - 9s 11ms/step - loss: 0.0605 - acc: 0.9880 - val_loss: 0.7923 - val_acc: 0.7560\n",
      "Epoch 7/10\n",
      "750/750 [==============================] - 9s 12ms/step - loss: 0.0338 - acc: 0.9907 - val_loss: 0.9423 - val_acc: 0.7680\n",
      "Epoch 8/10\n",
      "750/750 [==============================] - 9s 12ms/step - loss: 0.0239 - acc: 0.9907 - val_loss: 1.1944 - val_acc: 0.7600\n",
      "Epoch 9/10\n",
      "750/750 [==============================] - 9s 12ms/step - loss: 0.0250 - acc: 0.9973 - val_loss: 0.9302 - val_acc: 0.7800\n",
      "Epoch 10/10\n",
      "750/750 [==============================] - 9s 11ms/step - loss: 0.0155 - acc: 0.9960 - val_loss: 0.9089 - val_acc: 0.7800\n",
      "Training Accuracy: 1.0000\n",
      "Testing Accuracy:  0.7800\n"
     ]
    }
   ],
   "source": [
    "history = model.fit(X_train, y_train,\n",
    "                    epochs=10,\n",
    "                    verbose=True,\n",
    "                    validation_data=(X_test, y_test),\n",
    "                    batch_size=10)\n",
    "loss, accuracy = model.evaluate(X_train, y_train, verbose=False)\n",
    "print(\"Training Accuracy: {:.4f}\".format(accuracy))\n",
    "loss, accuracy = model.evaluate(X_test, y_test, verbose=False)\n",
    "print(\"Testing Accuracy:  {:.4f}\".format(accuracy))"
   ]
  },
  {
   "cell_type": "code",
   "execution_count": 63,
   "metadata": {
    "collapsed": true
   },
   "outputs": [],
   "source": [
    "model.save('train_100_test_80.h5')"
   ]
  },
  {
   "cell_type": "code",
   "execution_count": null,
   "metadata": {
    "collapsed": true
   },
   "outputs": [],
   "source": []
  }
 ],
 "metadata": {
  "kernelspec": {
   "display_name": "Python 3",
   "language": "python",
   "name": "python3"
  },
  "language_info": {
   "codemirror_mode": {
    "name": "ipython",
    "version": 3
   },
   "file_extension": ".py",
   "mimetype": "text/x-python",
   "name": "python",
   "nbconvert_exporter": "python",
   "pygments_lexer": "ipython3",
   "version": "3.6.3"
  }
 },
 "nbformat": 4,
 "nbformat_minor": 2
}
